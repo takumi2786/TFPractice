{
 "cells": [
  {
   "cell_type": "code",
   "execution_count": 1,
   "metadata": {},
   "outputs": [
    {
     "data": {
      "image/png": "[encoded data removed]",
      "text/plain": [
       "<Figure size 288x288 with 1 Axes>"
      ]
     },
     "metadata": {
      "needs_background": "light"
     },
     "output_type": "display_data"
    }
   ],
   "source": [
    "# scikit-learn ライブラリの読み込み\n",
    "from sklearn import datasets\n",
    "\n",
    "# 手書き文字セットを読み込む\n",
    "digits = datasets.load_digits()\n",
    "\n",
    "# どのようなデータか、確認してみる\n",
    "import matplotlib.pyplot as plt\n",
    "plt.matshow(digits.images[0], cmap=\"Greys\")\n",
    "plt.show()"
   ]
  },
  {
   "cell_type": "code",
   "execution_count": null,
   "metadata": {},
   "outputs": [],
   "source": []
  },
  {
   "cell_type": "code",
   "execution_count": 10,
   "metadata": {},
   "outputs": [],
   "source": [
    "# 手書き文字セットを読み込む\n",
    "# datas = datasets.load_digits()\n",
    "# 手書き文字の画像データ\n",
    "datas = datasets.load_boston()\n",
    "\n",
    "import pandas as pd\n",
    "boston = pd.DataFrame(datas.data, columns=datas.feature_names)\n",
    "\n",
    "print(\"aaa\")\n",
    "# import matplotlib.pyplot as plt #matplot: グラフ作成ライブラリ\n",
    "# plt.title(\"per capita crime rate by town\") #グラフのタイトルを設定（日本語は表示不可）\n",
    "# plt.hist(datas.data[\"CRIM\"], color = \"blue\", rwidth = 0.9) #XのCRIMのヒストグラムを生成\n",
    "# plt.show() #生成したヒストグラムを表示\n",
    "\n",
    "\n",
    "\n"
   ]
  },
  {
   "cell_type": "code",
   "execution_count": null,
   "metadata": {},
   "outputs": [],
   "source": []
  },
  {
   "cell_type": "code",
   "execution_count": null,
   "metadata": {},
   "outputs": [],
   "source": []
  },
  {
   "cell_type": "code",
   "execution_count": null,
   "metadata": {},
   "outputs": [],
   "source": []
  },
  {
   "cell_type": "code",
   "execution_count": null,
   "metadata": {},
   "outputs": [],
   "source": []
  }
 ],
 "metadata": {
  "kernelspec": {
   "display_name": "Python 3",
   "language": "python",
   "name": "python3"
  },
  "language_info": {
   "codemirror_mode": {
    "name": "ipython",
    "version": 3
   },
   "file_extension": ".py",
   "mimetype": "text/x-python",
   "name": "python",
   "nbconvert_exporter": "python",
   "pygments_lexer": "ipython3",
   "version": "3.6.9"
  }
 },
 "nbformat": 4,
 "nbformat_minor": 2
}
