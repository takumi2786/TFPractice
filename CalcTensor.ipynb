{
 "metadata": {
  "language_info": {
   "codemirror_mode": {
    "name": "ipython",
    "version": 3
   },
   "file_extension": ".py",
   "mimetype": "text/x-python",
   "name": "python",
   "nbconvert_exporter": "python",
   "pygments_lexer": "ipython3",
   "version": "3.6.9-final"
  },
  "orig_nbformat": 2,
  "kernelspec": {
   "name": "Python 3.6.9 64-bit ('tf_practice': conda)",
   "display_name": "Python 3.6.9 64-bit ('tf_practice': conda)",
   "metadata": {
    "interpreter": {
     "hash": "06405596078a37fd62b2c702c07893b373510b3c77d0358827361cd31606c4c4"
    }
   }
  }
 },
 "nbformat": 4,
 "nbformat_minor": 2,
 "cells": [
  {
   "cell_type": "code",
   "execution_count": 1,
   "metadata": {},
   "outputs": [],
   "source": [
    "# Tensorの演算子\n",
    "# https://qiita.com/hiroyuki827/items/72152cdbcb073f0d4bb7\n",
    "\n",
    "# インポート\n",
    "import os\n",
    "import tensorflow as tf\n",
    "from tensorflow import keras\n",
    "from tensorflow.keras import Model\n",
    "import tensorflow.keras.layers as layers\n",
    "from tensorflow.keras.layers import Dense, Flatten, Conv2D, Input\n",
    "import numpy as np"
   ]
  },
  {
   "cell_type": "code",
   "execution_count": 42,
   "metadata": {},
   "outputs": [
    {
     "output_type": "stream",
     "name": "stdout",
     "text": [
      "tf.Tensor([1 2 3 4], shape=(4,), dtype=int32)\ntf.Tensor(\n[[1 2]\n [3 4]], shape=(2, 2), dtype=int32)\ntf.Tensor(\n[[2 4]\n [6 8]], shape=(2, 2), dtype=int32)\nv\n<tf.Variable 'Variable:0' shape=(4,) dtype=int32, numpy=array([1, 2, 3, 4], dtype=int32)>\ntf.Tensor(\n[[1. 1. 1.]\n [1. 1. 1.]\n [1. 1. 1.]], shape=(3, 3), dtype=float32)\ntf.Tensor(\n[[0. 0. 0.]\n [0. 0. 0.]\n [0. 0. 0.]], shape=(3, 3), dtype=float32)\ntf.Tensor(\n[[ 0.64552546 -0.41597605]\n [-0.85680056  0.6780026 ]], shape=(2, 2), dtype=float32)\ntf.Tensor(\n[[6 3]\n [2 4]], shape=(2, 2), dtype=int32)\ntf.Tensor(\n[[6 2]\n [3 4]], shape=(2, 2), dtype=int32)\n"
     ]
    }
   ],
   "source": [
    "# 定数配列 : https://www.tensorflow.org/api_docs/python/tf/constant\n",
    "# Creates a constant tensor from a tensor-like object.\n",
    "# tf.constant(\n",
    "#     value, dtype=None, shape=None, name='Const'\n",
    "# )\n",
    "a = tf.constant([1,2,3,4])\n",
    "print(a)\n",
    "b = tf.constant([1,2,3,4],shape=[2,2])\n",
    "print(b)\n",
    "\n",
    "b = tf.add(b,b)\n",
    "print(b)\n",
    "\n",
    "# 変数\n",
    "# tf.Variable(\n",
    "#     initial_value=None, trainable=None, validate_shape=True, caching_device=None,\n",
    "#     name=None, variable_def=None, dtype=None, import_scope=None, constraint=None,\n",
    "#     synchronization=tf.VariableSynchronization.AUTO,\n",
    "#     aggregation=tf.compat.v1.VariableAggregation.NONE, shape=None\n",
    "# )\n",
    "v = tf.Variable([1,2,3,4])\n",
    "print(\"v\")\n",
    "print(v)\n",
    "# 変数と定数の違いは何？？？\n",
    "\n",
    "\n",
    "# 各種行列\n",
    "# Ones\n",
    "c = tf.ones([3,3])\n",
    "print(c)\n",
    "\n",
    "# Zeros\n",
    "d = tf.zeros([3,3])\n",
    "print(d)\n",
    "\n",
    "# 乱数配列\n",
    "initialiser = tf.random_uniform_initializer(minval=-1., maxval=1.)\n",
    "e = tf.constant(initialiser(shape=[2,2], dtype=tf.float32))\n",
    "print(e)\n",
    "\n",
    "# 転置配列\n",
    "M = tf.constant([6,3,2,4], shape=[2,2])\n",
    "print(M)\n",
    "M=tf.transpose(M)\n",
    "print(M)\n",
    "\n"
   ]
  },
  {
   "cell_type": "code",
   "execution_count": 58,
   "metadata": {},
   "outputs": [
    {
     "output_type": "stream",
     "name": "stdout",
     "text": [
      "tf.Tensor([8 6], shape=(2,), dtype=int32)\ntf.Tensor([4 0], shape=(2,), dtype=int32)\ntf.Tensor([3. 1.], shape=(2,), dtype=float64)\ntf.Tensor(\n[[6 3]\n [2 4]], shape=(2, 2), dtype=int32)\ntf.Tensor([[14]], shape=(1, 1), dtype=int32)\n"
     ]
    }
   ],
   "source": [
    "# 四則演算 : https://qiita.com/hiroyuki827/items/72152cdbcb073f0d4bb7\n",
    "# 要素ごとの演算になる．\n",
    "x = tf.constant([6,3])\n",
    "y = tf.constant([2,3])\n",
    "\n",
    "# 足し算\n",
    "out = tf.add(x, y)\n",
    "print(out)\n",
    "\n",
    "# 引き算\n",
    "out = tf.subtract(x, y)\n",
    "print(out)\n",
    "\n",
    "# 割り算\n",
    "out = tf.divide(x, y)\n",
    "print(out)\n",
    "\n",
    "# 行列積\n",
    "M = tf.constant([6,3,2,4], shape=[2,2])\n",
    "N = tf.constant([1,0,0,1], shape=[2,2])\n",
    "print(tf.matmul(M,N))\n",
    "\n",
    "# ベクトル積\n",
    "v = tf.Variable([[1,2,3]])\n",
    "w = tf.Variable([[1,2,3]])\n",
    "print(tf.matmul(v,w,transpose_b=True))\n",
    "\n",
    "\n",
    "\n",
    "\n"
   ]
  },
  {
   "cell_type": "code",
   "execution_count": 12,
   "metadata": {},
   "outputs": [
    {
     "output_type": "stream",
     "name": "stdout",
     "text": [
      "(10, 10, 3)\n(1, 10, 10, 3)\n"
     ]
    }
   ],
   "source": [
    "# tf.expand_dims : https://www.tensorflow.org/api_docs/python/tf/expand_dims\n",
    "# tf.expand_dims(\n",
    "#     input, axis, name=None\n",
    "# )\n",
    "image = tf.zeros([10,10,3])\n",
    "print(image.shape)\n",
    "image = tf.expand_dims(image, axis=0)\n",
    "print(image.shape)\n",
    "\n"
   ]
  },
  {
   "cell_type": "code",
   "execution_count": 57,
   "metadata": {},
   "outputs": [
    {
     "output_type": "stream",
     "name": "stdout",
     "text": [
      "Serving TensorBoard on localhost; to expose to the network, use a proxy or pass --bind_all\n",
      "TensorBoard 2.3.0 at http://localhost:6006/ (Press CTRL+C to quit)\n",
      "^C\n"
     ]
    }
   ],
   "source": [
    "!tensorboard --logdir ./logs"
   ]
  },
  {
   "cell_type": "code",
   "execution_count": null,
   "metadata": {},
   "outputs": [],
   "source": []
  },
  {
   "cell_type": "code",
   "execution_count": null,
   "metadata": {},
   "outputs": [],
   "source": []
  },
  {
   "cell_type": "code",
   "execution_count": null,
   "metadata": {},
   "outputs": [],
   "source": []
  }
 ]
}