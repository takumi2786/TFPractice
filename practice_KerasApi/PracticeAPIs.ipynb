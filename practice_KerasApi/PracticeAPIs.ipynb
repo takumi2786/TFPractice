{
 "metadata": {
  "language_info": {
   "codemirror_mode": {
    "name": "ipython",
    "version": 3
   },
   "file_extension": ".py",
   "mimetype": "text/x-python",
   "name": "python",
   "nbconvert_exporter": "python",
   "pygments_lexer": "ipython3",
   "version": "3.6.9-final"
  },
  "orig_nbformat": 2,
  "kernelspec": {
   "name": "Python 3.6.9 64-bit ('TFPractice': pipenv)",
   "display_name": "Python 3.6.9 64-bit ('TFPractice': pipenv)",
   "metadata": {
    "interpreter": {
     "hash": "858b34dfc5bdc959f0cb8c563eff02ff22304f3b3c52fddebb52b2d67cc6395b"
    }
   }
  }
 },
 "nbformat": 4,
 "nbformat_minor": 2,
 "cells": [
  {
   "cell_type": "code",
   "execution_count": 1,
   "metadata": {},
   "outputs": [],
   "source": [
    "# インポート\n",
    "import os\n",
    "import tensorflow as tf\n",
    "from tensorflow import keras\n",
    "from tensorflow.keras import Model\n",
    "import tensorflow.keras.layers as layers\n",
    "from tensorflow.keras.layers import Dense, Flatten, Conv2D, Input\n",
    "import numpy as np"
   ]
  },
  {
   "cell_type": "code",
   "execution_count": 2,
   "metadata": {},
   "outputs": [
    {
     "output_type": "stream",
     "name": "stdout",
     "text": [
      "Model: \"functional_1\"\n_________________________________________________________________\nLayer (type)                 Output Shape              Param #   \n=================================================================\ninput_1 (InputLayer)         [(None, 1, 4)]            0         \n_________________________________________________________________\ncustom_dense (CustomDense)   (None, 4, 4)              20        \n=================================================================\nTotal params: 20\nTrainable params: 20\nNon-trainable params: 0\n_________________________________________________________________\ntf.Tensor(\n[[ 0.0000000e+00  0.0000000e+00  0.0000000e+00  0.0000000e+00]\n [ 1.8973224e-02 -3.5656266e-02 -1.1627777e-01 -1.3140464e-04]\n [ 3.7946448e-02 -7.1312532e-02 -2.3255554e-01 -2.6280928e-04]\n [ 5.6919672e-02 -1.0696880e-01 -3.4883332e-01 -3.9421392e-04]], shape=(4, 4), dtype=float32)\ntf.Tensor(\n[[0. 0. 0. 0.]\n [0. 1. 2. 3.]\n [0. 2. 4. 6.]\n [0. 3. 6. 9.]], shape=(4, 4), dtype=float32)\n"
     ]
    }
   ],
   "source": [
    "# カスタムレイヤの構築　https://hironsan.hatenablog.com/entry/how-to-create-keras-custom-layer\n",
    "disp_flg=True\n",
    "class CustomDense(layers.Layer):\n",
    "    def __init__(self, units=10):\n",
    "        super(CustomDense, self).__init__()\n",
    "        self.units = units\n",
    "        # print(units)\n",
    "\n",
    "    def build(self, input_shape):\n",
    "        self.w = self.add_weight(\n",
    "            shape=(input_shape[-1], self.units),\n",
    "            initializer=\"random_normal\",\n",
    "            trainable=True,\n",
    "        )\n",
    "        self.b = self.add_weight(\n",
    "            shape=(1,self.units), initializer=\"random_normal\", trainable=True\n",
    "        )\n",
    "        self.c = tf.constant([0,1,2,3],shape=[1,4], dtype=\"float32\")\n",
    "\n",
    "    def call(self, x):\n",
    "        # return tf.matmul(x, self.c,  transpose_b=True)\n",
    "        return tf.matmul(x, self.b,  transpose_a=True)\n",
    "\n",
    "\n",
    "\n",
    "if disp_flg==True:\n",
    "    inputs = keras.Input(shape=(1,4))\n",
    "    outputs = CustomDense(4)(inputs)\n",
    "    model = keras.Model(inputs, outputs)\n",
    "    model.summary()\n",
    "\n",
    "    a = tf.constant([0,1,2,3],shape=[1,4], dtype=\"float32\")\n",
    "    out = model(a)\n",
    "    print(out)\n",
    "\n",
    "    # 以下と同じ\n",
    "    out = tf.matmul(a,a,transpose_a=True)\n",
    "    print(out)\n",
    "    "
   ]
  },
  {
   "cell_type": "code",
   "execution_count": 4,
   "metadata": {},
   "outputs": [],
   "source": [
    "# モデルの構築\n",
    "mode=1\n",
    "# 1. Sequencial Model\n",
    "\n",
    "# 2. Functional API (そのまま使う)\n",
    "if mode==1:\n",
    "    # img_inputs = keras.Input(shape=(32, 32, 3))\n",
    "    inputs = keras.Input(shape=(784,))\n",
    "    x = layers.Dense(64, activation=\"relu\")(inputs)\n",
    "    x = layers.Dense(64, activation=\"relu\")(x)\n",
    "    outputs = layers.Dense(10)(x)\n",
    "    model = keras.Model(inputs=inputs, outputs=outputs, name=\"mnist_model\")\n",
    "\n",
    "if mode==2:\n",
    "    inputs = keras.Input(shape=(4,))\n",
    "    outputs = CustomDense(4)(inputs)\n",
    "    model = keras.Model(inputs, outputs)\n",
    "\n"
   ]
  },
  {
   "cell_type": "code",
   "execution_count": null,
   "metadata": {},
   "outputs": [],
   "source": []
  },
  {
   "cell_type": "code",
   "execution_count": 5,
   "metadata": {},
   "outputs": [],
   "source": [
    "# 他入力他出力モデルの作成"
   ]
  },
  {
   "cell_type": "code",
   "execution_count": 6,
   "metadata": {},
   "outputs": [
    {
     "output_type": "stream",
     "name": "stdout",
     "text": [
      "Epoch 1/2\n",
      "750/750 [==============================] - 3s 4ms/step - loss: 0.3468 - accuracy: 0.9021 - val_loss: 0.1941 - val_accuracy: 0.9427\n",
      "Epoch 2/2\n",
      "750/750 [==============================] - 2s 3ms/step - loss: 0.1603 - accuracy: 0.9524 - val_loss: 0.1498 - val_accuracy: 0.9538\n",
      "313/313 - 0s - loss: 0.1464 - accuracy: 0.9565\n",
      "Test loss: 0.14641624689102173\n",
      "Test accuracy: 0.9564999938011169\n"
     ]
    }
   ],
   "source": [
    "# モデルのトレーニング\n",
    "\n",
    "mode=0\n",
    "# データのロード\n",
    "(x_train, y_train), (x_test, y_test) = keras.datasets.mnist.load_data()\n",
    "x_train = x_train.reshape(60000, 784).astype(\"float32\") / 255\n",
    "x_test = x_test.reshape(10000, 784).astype(\"float32\") / 255\n",
    "\n",
    "if mode==0: # 通常の方法\n",
    "    model.compile(\n",
    "        loss=keras.losses.SparseCategoricalCrossentropy(from_logits=True),\n",
    "        optimizer=keras.optimizers.RMSprop(),\n",
    "        metrics=[\"accuracy\"],\n",
    "    )\n",
    "\n",
    "    history = model.fit(x_train, y_train, batch_size=64, epochs=2, validation_split=0.2)\n",
    "\n",
    "    test_scores = model.evaluate(x_test, y_test, verbose=2)\n",
    "    print(\"Test loss:\", test_scores[0])\n",
    "    print(\"Test accuracy:\", test_scores[1])\n",
    "\n",
    "\n"
   ]
  },
  {
   "cell_type": "code",
   "execution_count": 34,
   "metadata": {},
   "outputs": [],
   "source": [
    "import os\n",
    "import tensorflow as tf\n",
    "from tensorflow import keras\n",
    "from tensorflow.keras import Model\n",
    "import tensorflow.keras.layers as layers\n",
    "from tensorflow.keras.layers import Dense, Flatten, Conv2D, Input\n",
    "import numpy as np\n",
    "from tensorflow.keras import activations\n",
    "# データセットのロード\n",
    "mnist = tf.keras.datasets.mnist\n",
    "(x_train, y_train), (x_test, y_test) = mnist.load_data()\n",
    "x_train, x_test = x_train / 255.0, x_test / 255.0#0~1の値で正規化\n",
    "\n",
    "# モデルの構築\n",
    "model_sq = tf.keras.models.Sequential([\n",
    "  tf.keras.layers.Flatten(input_shape=(28, 28)),\n",
    "  tf.keras.layers.Dense(128, activation='relu'),\n",
    "  tf.keras.layers.Dropout(0.2),\n",
    "  tf.keras.layers.Dense(10)\n",
    "])\n",
    "\n",
    "loss_fn = tf.keras.losses.SparseCategoricalCrossentropy(from_logits=True)\n",
    "model_sq.compile(optimizer='adam',\n",
    "              loss=loss_fn,\n",
    "              metrics=['accuracy'])\n",
    "\n",
    "# 学習\n",
    "# model_sq.fit(x_train, y_train, epochs=10)\n",
    "# モデル性能の評価\n",
    "# model_sq.evaluate(x_test,  y_test, verbose=2)\n",
    "\n",
    "\n",
    "# カスタムモデルで作成\n",
    "\n",
    "# ・カスタムレイヤ\n",
    "# Dense\n",
    "class MyDense(layers.Layer):\n",
    "    def __init__(self, units=10, activation=None):\n",
    "        super(MyDense, self).__init__()\n",
    "        self.units = units\n",
    "        self.activation_name = activation\n",
    "\n",
    "    def build(self, input_shape):\n",
    "        self.w = self.add_weight(\n",
    "            shape=(input_shape[-1], self.units),\n",
    "            initializer=\"ones\",\n",
    "            trainable=True,\n",
    "        )\n",
    "        self.b = self.add_weight(\n",
    "            shape=(self.units,), initializer=\"zeros\", trainable=True\n",
    "        )\n",
    "\n",
    "        if self.activation_name==None:\n",
    "            self.activation=None\n",
    "        elif self.activation_name==\"relu\":\n",
    "            self.activation = activations.relu\n",
    "        # self.c = tf.constant([0,1,2,3],shape=[1,4], dtype=\"float32\")\n",
    "\n",
    "    def call(self, inputs):\n",
    "        out = tf.matmul(inputs, self.w) + self.b\n",
    "        if self.activation is not None:\n",
    "            out = self.activation(out)\n",
    "\n",
    "        return out\n"
   ]
  },
  {
   "cell_type": "code",
   "execution_count": 38,
   "metadata": {},
   "outputs": [
    {
     "output_type": "stream",
     "name": "stdout",
     "text": [
      "Model: \"functional_35\"\n_________________________________________________________________\nLayer (type)                 Output Shape              Param #   \n=================================================================\ninput_26 (InputLayer)        [(None, 784)]             0         \n_________________________________________________________________\nmy_dense_22 (MyDense)        (None, 128)               100480    \n=================================================================\nTotal params: 100,480\nTrainable params: 100,480\nNon-trainable params: 0\n_________________________________________________________________\ntf.Tensor(\n[[72.36864 72.36864 72.36864 72.36864 72.36864 72.36864 72.36864 72.36864\n  72.36864 72.36864 72.36864 72.36864 72.36864 72.36864 72.36864 72.36864\n  72.36864 72.36864 72.36864 72.36864 72.36864 72.36864 72.36864 72.36864\n  72.36864 72.36864 72.36864 72.36864 72.36864 72.36864 72.36864 72.36864\n  72.36864 72.36864 72.36864 72.36864 72.36864 72.36864 72.36864 72.36864\n  72.36864 72.36864 72.36864 72.36864 72.36864 72.36864 72.36864 72.36864\n  72.36864 72.36864 72.36864 72.36864 72.36864 72.36864 72.36864 72.36864\n  72.36864 72.36864 72.36864 72.36864 72.36864 72.36864 72.36864 72.36864\n  72.36864 72.36864 72.36864 72.36864 72.36864 72.36864 72.36864 72.36864\n  72.36864 72.36864 72.36864 72.36864 72.36864 72.36864 72.36864 72.36864\n  72.36864 72.36864 72.36864 72.36864 72.36864 72.36864 72.36864 72.36864\n  72.36864 72.36864 72.36864 72.36864 72.36864 72.36864 72.36864 72.36864\n  72.36864 72.36864 72.36864 72.36864 72.36864 72.36864 72.36864 72.36864\n  72.36864 72.36864 72.36864 72.36864 72.36864 72.36864 72.36864 72.36864\n  72.36864 72.36864 72.36864 72.36864 72.36864 72.36864 72.36864 72.36864\n  72.36864 72.36864 72.36864 72.36864 72.36864 72.36864 72.36864 72.36864]], shape=(1, 128), dtype=float32)\n"
     ]
    }
   ],
   "source": [
    "x = x_test[0].reshape(1,784)\n",
    "# x = np.zeros([1,784])\n",
    "# print(x)\n",
    "\n",
    "inputs = keras.Input(shape=(784,))\n",
    "outputs = MyDense(128,'relu')(inputs)\n",
    "model = keras.Model(inputs, outputs)\n",
    "model.summary()\n",
    "\n",
    "out = model(x)\n",
    "print(out)"
   ]
  },
  {
   "cell_type": "code",
   "execution_count": 8,
   "metadata": {},
   "outputs": [
    {
     "output_type": "stream",
     "name": "stdout",
     "text": [
      "(1, 128)\nModel: \"functional_9\"\n_________________________________________________________________\nLayer (type)                 Output Shape              Param #   \n=================================================================\ninput_5 (InputLayer)         [(None, 784)]             0         \n_________________________________________________________________\nmy_dense_4 (MyDense)         (None, 128)               100480    \n=================================================================\nTotal params: 100,480\nTrainable params: 100,480\nNon-trainable params: 0\n_________________________________________________________________\n"
     ]
    }
   ],
   "source": [
    "# 比較\n",
    "x = x_test[0].reshape(1,784)\n",
    "inputs = keras.Input(shape=(784,))\n",
    "outputs = Dense(128)(inputs)\n",
    "print(out.shape)\n",
    "model.summary()"
   ]
  },
  {
   "cell_type": "code",
   "execution_count": null,
   "metadata": {},
   "outputs": [],
   "source": []
  },
  {
   "cell_type": "code",
   "execution_count": null,
   "metadata": {},
   "outputs": [],
   "source": []
  },
  {
   "cell_type": "code",
   "execution_count": null,
   "metadata": {},
   "outputs": [],
   "source": []
  }
 ]
}